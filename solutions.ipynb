{
 "cells": [
  {
   "cell_type": "markdown",
   "metadata": {},
   "source": [
    "# Question 414. Third Maximum Number"
   ]
  },
  {
   "cell_type": "code",
   "execution_count": 1,
   "metadata": {},
   "outputs": [],
   "source": [
    "class Solution:\n",
    "    def thirdMax(self, nums):\n",
    "        a=list(set(nums))\n",
    "        a.sort()\n",
    "        if len(a)>=3 :\n",
    "            return a[-3]\n",
    "        else:\n",
    "            return max(a)"
   ]
  },
  {
   "cell_type": "code",
   "execution_count": 3,
   "metadata": {},
   "outputs": [
    {
     "data": {
      "text/plain": [
       "1"
      ]
     },
     "execution_count": 3,
     "metadata": {},
     "output_type": "execute_result"
    }
   ],
   "source": [
    "nums = [3,3,2,1,1]\n",
    "S1 = Solution()\n",
    "S1.thirdMax(nums)"
   ]
  },
  {
   "cell_type": "markdown",
   "metadata": {},
   "source": [
    "# Question 409. Longest Palindrome"
   ]
  },
  {
   "cell_type": "code",
   "execution_count": null,
   "metadata": {},
   "outputs": [],
   "source": [
    "#Given a string which consists of lowercase or uppercase letters, find the length of the longest palindromes that can be built with those letters.\n",
    "#This is case sensitive, for example \"Aa\" is not considered a palindrome here.\n",
    "#Note:\n",
    "#Assume the length of given string will not exceed 1,010.\n",
    "#Example:\n",
    "#Input:\n",
    "#\"abccccdd\"\n",
    "#Output:\n",
    "7\n",
    "#Explanation:\n",
    "#One longest palindrome that can be built is \"dccaccd\", whose length is 7."
   ]
  },
  {
   "cell_type": "code",
   "execution_count": 108,
   "metadata": {},
   "outputs": [
    {
     "name": "stdout",
     "output_type": "stream",
     "text": [
      "['a', 'a', 'b', 'b', 'c']\n",
      "['b', 'a', 'c']\n",
      "[2, 2, 1]\n",
      "5\n"
     ]
    }
   ],
   "source": [
    "# SORU İLE HALA UĞRAŞIYORUM\n",
    "\n",
    "s='aabbc'\n",
    "a=list(s)\n",
    "print(a)\n",
    "b=list()\n",
    "c=list(set(a.copy()))\n",
    "print(c)\n",
    "for x in range(len(c)):\n",
    "    b.append(a.count(c[x]))\n",
    "print(b)\n",
    "count=0\n",
    "for x in range(len(b)):\n",
    "    count+=((b[x]//2)*2)\n",
    "count += 1\n",
    "if len(s) % 2 == 0:\n",
    "    count -=1\n",
    "print(count)"
   ]
  },
  {
   "cell_type": "code",
   "execution_count": null,
   "metadata": {},
   "outputs": [],
   "source": []
  },
  {
   "cell_type": "code",
   "execution_count": 47,
   "metadata": {},
   "outputs": [],
   "source": [
    "class Solution:\n",
    "    def longestPalindrome(self, s):\n",
    "        a = list(s)\n",
    "        a.sort()\n",
    "        d = a.copy()\n",
    "        e = list(set(d))\n",
    "        print(e)\n",
    "        count_odd = 0\n",
    "        count_even = 0\n",
    "        oddnumber = False\n",
    "        for x in range(len(e)):\n",
    "            if a.count(e[x]) % 2 != 0:\n",
    "                oddnumber = True\n",
    "                count_odd += (((a.count(e[x]))-1) / 2)\n",
    "                print(count_odd,'1')\n",
    "            elif a.count(e[x]) % 2 == 0:\n",
    "                count_even += a.count(e[x])\n",
    "                print(count_even,'2')\n",
    "        if oddnumber == True:\n",
    "            count_odd += 1\n",
    "            print(count_odd,'3')\n",
    "        if len(a) % 2 != 0 and len(a)>=3:\n",
    "            count_odd += 1\n",
    "            print(count_odd,'4')\n",
    "        count= count_odd + count_even\n",
    "        return int(count)"
   ]
  },
  {
   "cell_type": "code",
   "execution_count": 51,
   "metadata": {},
   "outputs": [
    {
     "name": "stdout",
     "output_type": "stream",
     "text": [
      "['b', 'a', 'c']\n",
      "0.0 1\n",
      "0.0 1\n",
      "0.0 1\n",
      "1.0 3\n",
      "2.0 4\n"
     ]
    },
    {
     "data": {
      "text/plain": [
       "2"
      ]
     },
     "execution_count": 51,
     "metadata": {},
     "output_type": "execute_result"
    }
   ],
   "source": [
    "s = 'abc'\n",
    "S1 = Solution()\n",
    "S1.longestPalindrome(s)"
   ]
  },
  {
   "cell_type": "markdown",
   "metadata": {},
   "source": [
    "# Question 747. Largest Number At Least Twice of Others"
   ]
  },
  {
   "cell_type": "code",
   "execution_count": null,
   "metadata": {},
   "outputs": [],
   "source": [
    "class Solution:\n",
    "    def dominantIndex(self, nums):\n",
    "        c = nums.copy()\n",
    "        # eğer dizi tek elemanlı ise otomatik olarak en büyük eleman koşulunu sağlamış olur.\n",
    "        if len(c)<2:\n",
    "            return 0\n",
    "        c.sort()\n",
    "        a = c[-1]\n",
    "        b = c[-2]\n",
    "        if a >= (b*2):\n",
    "            return nums.index(a)\n",
    "        return -1"
   ]
  },
  {
   "cell_type": "code",
   "execution_count": null,
   "metadata": {},
   "outputs": [],
   "source": [
    "nums = [0,0,2,3]\n",
    "S1 = Solution()\n",
    "S1.dominantIndex(nums)"
   ]
  },
  {
   "cell_type": "markdown",
   "metadata": {},
   "source": [
    "# Question 66. Plus One"
   ]
  },
  {
   "cell_type": "code",
   "execution_count": null,
   "metadata": {},
   "outputs": [],
   "source": [
    "class Solution:\n",
    "    def plusOne(self, digits):\n",
    "        a = digits.copy()\n",
    "        a.reverse()\n",
    "        b=0\n",
    "        for x in range(len(a)):\n",
    "            b += a[x]*(10 ** x)\n",
    "        c = b + 1\n",
    "        d = list(str(c))\n",
    "        e = list()\n",
    "        for x in range(len(d)):\n",
    "            e.append(int(d[x]))\n",
    "        return e"
   ]
  },
  {
   "cell_type": "code",
   "execution_count": null,
   "metadata": {},
   "outputs": [],
   "source": [
    "digits = [5,1,2,3]\n",
    "S1 = Solution()\n",
    "S1.plusOne(digits)"
   ]
  },
  {
   "cell_type": "markdown",
   "metadata": {},
   "source": [
    "# Question 917. Reverse Only Letters"
   ]
  },
  {
   "cell_type": "code",
   "execution_count": null,
   "metadata": {},
   "outputs": [],
   "source": [
    "class Solution:\n",
    "    def reverseOnlyLetters(self, s):\n",
    "        a = list()\n",
    "        b = list()\n",
    "        count = 0\n",
    "        for x in range(len(s)):\n",
    "            if 65 <= ord(s[x]) <= 90 or 97 <= ord(s[x]) <= 122:\n",
    "                a.append(s[x])\n",
    "                count += 1\n",
    "            elif 33 <= ord(s[x]) <= 64 or 91 <= ord(s[x]) <= 96:\n",
    "                b.append(count)\n",
    "                count += 1\n",
    "        a.reverse()\n",
    "        for x in range(len(b)):\n",
    "            a.insert(b[x],s[b[x]])\n",
    "        z=''\n",
    "        for x in range(len(a)):\n",
    "            z += str(a[x])\n",
    "        return z"
   ]
  },
  {
   "cell_type": "code",
   "execution_count": null,
   "metadata": {},
   "outputs": [],
   "source": [
    "s = \"ab-cd\"\n",
    "S1 = Solution()\n",
    "S1.reverseOnlyLetters(s)"
   ]
  },
  {
   "cell_type": "markdown",
   "metadata": {},
   "source": [
    "# Question 728. Self Dividing Numbers"
   ]
  },
  {
   "cell_type": "code",
   "execution_count": 24,
   "metadata": {},
   "outputs": [],
   "source": [
    "class Solution:\n",
    "    def selfDividingNumbers(self, left, right):\n",
    "        a = list()\n",
    "        for x in range(left,right+1):\n",
    "            if str(x).find('0') != -1:\n",
    "                continue\n",
    "            sx = str(x)\n",
    "            for y in range(len(sx)):\n",
    "                if x % int(sx[y]) == 0:\n",
    "                    if y == len(sx)-1:\n",
    "                        a.append(x)\n",
    "                    continue\n",
    "                else:\n",
    "                    break\n",
    "        return a"
   ]
  },
  {
   "cell_type": "code",
   "execution_count": 25,
   "metadata": {},
   "outputs": [
    {
     "data": {
      "text/plain": [
       "[1, 2, 3, 4, 5, 6, 7, 8, 9, 11, 12, 15, 22]"
      ]
     },
     "execution_count": 25,
     "metadata": {},
     "output_type": "execute_result"
    }
   ],
   "source": [
    "left=1\n",
    "right=22\n",
    "S1 = Solution()\n",
    "S1.selfDividingNumbers(left, right)"
   ]
  },
  {
   "cell_type": "markdown",
   "metadata": {},
   "source": [
    "# Question 43. Multiply Strings"
   ]
  },
  {
   "cell_type": "code",
   "execution_count": null,
   "metadata": {},
   "outputs": [],
   "source": [
    "class Solution:\n",
    "    def multiply(self, num1, num2):\n",
    "        num3 = str(int(num1) * int(num2))\n",
    "        return num3"
   ]
  },
  {
   "cell_type": "code",
   "execution_count": null,
   "metadata": {},
   "outputs": [],
   "source": [
    "num1 = '123'\n",
    "num2 = '456'\n",
    "S1 = Solution()\n",
    "S1.multiply(num1,num2)"
   ]
  },
  {
   "cell_type": "markdown",
   "metadata": {},
   "source": [
    "# Question 287. Find the Duplicate Number"
   ]
  },
  {
   "cell_type": "code",
   "execution_count": 51,
   "metadata": {},
   "outputs": [],
   "source": [
    "class Solution:\n",
    "    def findDuplicate(self, nums):\n",
    "        nums.sort()\n",
    "        b = None\n",
    "        for x in nums:\n",
    "            if b == x:\n",
    "                return x\n",
    "            b = x\n",
    "            "
   ]
  },
  {
   "cell_type": "code",
   "execution_count": 53,
   "metadata": {},
   "outputs": [
    {
     "data": {
      "text/plain": [
       "3"
      ]
     },
     "execution_count": 53,
     "metadata": {},
     "output_type": "execute_result"
    }
   ],
   "source": [
    "nums = [3,1,3,4,2]\n",
    "S1 = Solution()\n",
    "S1.findDuplicate(nums)"
   ]
  },
  {
   "cell_type": "markdown",
   "metadata": {},
   "source": [
    "# 442. Find All Duplicates in an Array"
   ]
  },
  {
   "cell_type": "code",
   "execution_count": 28,
   "metadata": {},
   "outputs": [],
   "source": [
    "class Solution:\n",
    "    def findDuplicates(self, nums):\n",
    "        a = list(set(nums))\n",
    "        b = list()\n",
    "        for y in a:\n",
    "            if nums.count(y) > 1:\n",
    "                b.append(y)\n",
    "        return b"
   ]
  },
  {
   "cell_type": "code",
   "execution_count": 30,
   "metadata": {},
   "outputs": [
    {
     "data": {
      "text/plain": [
       "[3]"
      ]
     },
     "execution_count": 30,
     "metadata": {},
     "output_type": "execute_result"
    }
   ],
   "source": [
    "nums = [3,1,3,4,2,10223,10223]\n",
    "S1 = Solution()\n",
    "S1.findDuplicates(nums)"
   ]
  },
  {
   "cell_type": "code",
   "execution_count": 38,
   "metadata": {},
   "outputs": [],
   "source": [
    "class Solution:\n",
    "    def findDuplicates(self, nums):\n",
    "        return list(set([item for item in nums if nums.count(item)>1]))"
   ]
  },
  {
   "cell_type": "code",
   "execution_count": 39,
   "metadata": {},
   "outputs": [
    {
     "data": {
      "text/plain": [
       "[3, 10223]"
      ]
     },
     "execution_count": 39,
     "metadata": {},
     "output_type": "execute_result"
    }
   ],
   "source": [
    "nums = [3,1,3,4,2,10223,10223]\n",
    "S1 = Solution()\n",
    "S1.findDuplicates(nums)"
   ]
  },
  {
   "cell_type": "code",
   "execution_count": 44,
   "metadata": {},
   "outputs": [],
   "source": [
    "class Solution:\n",
    "    def findDuplicates(self, nums):\n",
    "        nums.sort()\n",
    "        b = None\n",
    "        c = list()\n",
    "        for x in nums:\n",
    "            if b == x:\n",
    "                c.append(x)\n",
    "            b = x\n",
    "        return c[0]"
   ]
  },
  {
   "cell_type": "code",
   "execution_count": 45,
   "metadata": {},
   "outputs": [
    {
     "data": {
      "text/plain": [
       "[3, 10223]"
      ]
     },
     "execution_count": 45,
     "metadata": {},
     "output_type": "execute_result"
    }
   ],
   "source": [
    "nums = [3,1,3,4,2,10223,10223]\n",
    "S1 = Solution()\n",
    "S1.findDuplicates(nums)"
   ]
  },
  {
   "cell_type": "markdown",
   "metadata": {},
   "source": [
    "# Question 345. Reverse Vowels of a String"
   ]
  },
  {
   "cell_type": "code",
   "execution_count": 58,
   "metadata": {},
   "outputs": [],
   "source": [
    "class Solution:\n",
    "    def reverseVowels(self, s):\n",
    "        a = ['a','e','i','o','u','A','E','I','O','U']\n",
    "        b = list()\n",
    "        c = list()\n",
    "        d = list()\n",
    "        count = 0\n",
    "        for x in range(len(s)):\n",
    "            if a.count(s[x]) >= 1:\n",
    "                b.append(s[x])\n",
    "                c.append(x)\n",
    "                count += 1\n",
    "            else:\n",
    "                d.append(s[x])\n",
    "                count += 1\n",
    "        b.reverse()\n",
    "        for x in range(len(b)):\n",
    "            d.insert(c[x],b[x])\n",
    "        z=''\n",
    "        for x in range(len(d)):\n",
    "            z += str(d[x])\n",
    "        return z"
   ]
  },
  {
   "cell_type": "code",
   "execution_count": 61,
   "metadata": {},
   "outputs": [
    {
     "data": {
      "text/plain": [
       "'leotcede'"
      ]
     },
     "execution_count": 61,
     "metadata": {},
     "output_type": "execute_result"
    }
   ],
   "source": [
    "s = 'leetcode'\n",
    "S1 = Solution()\n",
    "S1.reverseVowels(s)"
   ]
  },
  {
   "cell_type": "code",
   "execution_count": null,
   "metadata": {},
   "outputs": [],
   "source": []
  }
 ],
 "metadata": {
  "kernelspec": {
   "display_name": "Python 3",
   "language": "python",
   "name": "python3"
  },
  "language_info": {
   "codemirror_mode": {
    "name": "ipython",
    "version": 3
   },
   "file_extension": ".py",
   "mimetype": "text/x-python",
   "name": "python",
   "nbconvert_exporter": "python",
   "pygments_lexer": "ipython3",
   "version": "3.6.5"
  }
 },
 "nbformat": 4,
 "nbformat_minor": 2
}
