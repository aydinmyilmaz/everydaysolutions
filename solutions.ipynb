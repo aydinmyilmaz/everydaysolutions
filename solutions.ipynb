{
 "cells": [
  {
   "cell_type": "markdown",
   "metadata": {},
   "source": [
    "# Question 260. Single Number III"
   ]
  },
  {
   "cell_type": "code",
   "execution_count": null,
   "metadata": {},
   "outputs": [],
   "source": [
    "class Solution:\n",
    "    def singleNumber(self, nums):            \n",
    "        nums_set = set(nums)\n",
    "        nums_list=list(nums_set)\n",
    "        #print(nums_list)\n",
    "        for x in range(len(nums_list)):\n",
    "            nums.remove(nums_list[x])\n",
    "\n",
    "        for m in range(len(nums)):\n",
    "            nums_list.remove(nums[m])\n",
    "        solution = nums_list\n",
    "        return solution"
   ]
  },
  {
   "cell_type": "code",
   "execution_count": null,
   "metadata": {},
   "outputs": [],
   "source": [
    "S1 = Solution()\n",
    "print(S1.singleNumber([1,1,2,2,3,5]))"
   ]
  },
  {
   "cell_type": "markdown",
   "metadata": {},
   "source": [
    "# Question 859. Buddy Strings"
   ]
  },
  {
   "cell_type": "code",
   "execution_count": null,
   "metadata": {},
   "outputs": [],
   "source": [
    "class Solution:\n",
    "    def buddyStrings(self, a, b):\n",
    "        if len(a) != len(b):\n",
    "            return False\n",
    "        list_a = list(a)\n",
    "        sortedlist_a = list_a.copy()\n",
    "        sortedlist_a.sort()\n",
    "        list_b = list(b)\n",
    "        sortedlist_b = list_b.copy()\n",
    "        sortedlist_b.sort()\n",
    "        if sortedlist_a != sortedlist_b:\n",
    "            return False\n",
    "        counter = 0\n",
    "        for p in range(len(list_a)):\n",
    "            if list_a[p] != list_b[p]:\n",
    "                counter += 1\n",
    "        if counter != 0 and counter != 2:\n",
    "            return False\n",
    "        elif counter == 0:\n",
    "            for r in range(len(list_a)):\n",
    "                if list_a.count(list_a[r]) > 1:\n",
    "                    return True\n",
    "            return False\n",
    "        return True"
   ]
  },
  {
   "cell_type": "code",
   "execution_count": null,
   "metadata": {},
   "outputs": [],
   "source": [
    "a = 'abcabc'\n",
    "b = 'abcabc'\n",
    "S1 = Solution()\n",
    "S1.buddyStrings(a,b)"
   ]
  },
  {
   "cell_type": "markdown",
   "metadata": {},
   "source": [
    "# Question 747. Largest Number At Least Twice of Others"
   ]
  },
  {
   "cell_type": "code",
   "execution_count": null,
   "metadata": {},
   "outputs": [],
   "source": [
    "class Solution:\n",
    "    def dominantIndex(self, nums):\n",
    "        c = nums.copy()\n",
    "        # eğer dizi tek elemanlı ise otomatik olarak en büyük eleman koşulunu sağlamış olur.\n",
    "        if len(c)<2:\n",
    "            return 0\n",
    "        c.sort()\n",
    "        a = c[-1]\n",
    "        b = c[-2]\n",
    "        if a >= (b*2):\n",
    "            return nums.index(a)\n",
    "        return -1"
   ]
  },
  {
   "cell_type": "code",
   "execution_count": null,
   "metadata": {},
   "outputs": [],
   "source": [
    "nums = [0,0,2,3]\n",
    "S1 = Solution()\n",
    "S1.dominantIndex(nums)"
   ]
  },
  {
   "cell_type": "markdown",
   "metadata": {},
   "source": [
    "# Question 66. Plus One"
   ]
  },
  {
   "cell_type": "code",
   "execution_count": null,
   "metadata": {},
   "outputs": [],
   "source": [
    "class Solution:\n",
    "    def plusOne(self, digits):\n",
    "        a = digits.copy()\n",
    "        a.reverse()\n",
    "        b=0\n",
    "        for x in range(len(a)):\n",
    "            b += a[x]*(10 ** x)\n",
    "        c = b + 1\n",
    "        d = list(str(c))\n",
    "        e = list()\n",
    "        for x in range(len(d)):\n",
    "            e.append(int(d[x]))\n",
    "        return e"
   ]
  },
  {
   "cell_type": "code",
   "execution_count": null,
   "metadata": {},
   "outputs": [],
   "source": [
    "digits = [5,1,2,3]\n",
    "S1 = Solution()\n",
    "S1.plusOne(digits)"
   ]
  },
  {
   "cell_type": "markdown",
   "metadata": {},
   "source": [
    "# Question 917. Reverse Only Letters"
   ]
  },
  {
   "cell_type": "code",
   "execution_count": null,
   "metadata": {},
   "outputs": [],
   "source": [
    "class Solution:\n",
    "    def reverseOnlyLetters(self, s):\n",
    "        a = list()\n",
    "        b = list()\n",
    "        count = 0\n",
    "        for x in range(len(s)):\n",
    "            if 65 <= ord(s[x]) <= 90 or 97 <= ord(s[x]) <= 122:\n",
    "                a.append(s[x])\n",
    "                count += 1\n",
    "            elif 33 <= ord(s[x]) <= 64 or 91 <= ord(s[x]) <= 96:\n",
    "                b.append(count)\n",
    "                count += 1\n",
    "        a.reverse()\n",
    "        for x in range(len(b)):\n",
    "            a.insert(b[x],s[b[x]])\n",
    "        z=''\n",
    "        for x in range(len(a)):\n",
    "            z += str(a[x])\n",
    "        return z"
   ]
  },
  {
   "cell_type": "code",
   "execution_count": null,
   "metadata": {},
   "outputs": [],
   "source": [
    "s = \"ab-cd\"\n",
    "S1 = Solution()\n",
    "S1.reverseOnlyLetters(s)"
   ]
  },
  {
   "cell_type": "markdown",
   "metadata": {},
   "source": [
    "# Question 728. Self Dividing Numbers"
   ]
  },
  {
   "cell_type": "code",
   "execution_count": 24,
   "metadata": {},
   "outputs": [],
   "source": [
    "class Solution:\n",
    "    def selfDividingNumbers(self, left, right):\n",
    "        a = list()\n",
    "        for x in range(left,right+1):\n",
    "            if str(x).find('0') != -1:\n",
    "                continue\n",
    "            sx = str(x)\n",
    "            for y in range(len(sx)):\n",
    "                if x % int(sx[y]) == 0:\n",
    "                    if y == len(sx)-1:\n",
    "                        a.append(x)\n",
    "                    continue\n",
    "                else:\n",
    "                    break\n",
    "        return a"
   ]
  },
  {
   "cell_type": "code",
   "execution_count": 25,
   "metadata": {},
   "outputs": [
    {
     "data": {
      "text/plain": [
       "[1, 2, 3, 4, 5, 6, 7, 8, 9, 11, 12, 15, 22]"
      ]
     },
     "execution_count": 25,
     "metadata": {},
     "output_type": "execute_result"
    }
   ],
   "source": [
    "left=1\n",
    "right=22\n",
    "S1 = Solution()\n",
    "S1.selfDividingNumbers(left, right)"
   ]
  },
  {
   "cell_type": "markdown",
   "metadata": {},
   "source": [
    "# Question 43. Multiply Strings"
   ]
  },
  {
   "cell_type": "code",
   "execution_count": null,
   "metadata": {},
   "outputs": [],
   "source": [
    "class Solution:\n",
    "    def multiply(self, num1, num2):\n",
    "        num3 = str(int(num1) * int(num2))\n",
    "        return num3"
   ]
  },
  {
   "cell_type": "code",
   "execution_count": null,
   "metadata": {},
   "outputs": [],
   "source": [
    "num1 = '123'\n",
    "num2 = '456'\n",
    "S1 = Solution()\n",
    "S1.multiply(num1,num2)"
   ]
  },
  {
   "cell_type": "markdown",
   "metadata": {},
   "source": [
    "# Question 287. Find the Duplicate Number"
   ]
  },
  {
   "cell_type": "code",
   "execution_count": 51,
   "metadata": {},
   "outputs": [],
   "source": [
    "class Solution:\n",
    "    def findDuplicate(self, nums):\n",
    "        nums.sort()\n",
    "        b = None\n",
    "        for x in nums:\n",
    "            if b == x:\n",
    "                return x\n",
    "            b = x\n",
    "            "
   ]
  },
  {
   "cell_type": "code",
   "execution_count": 53,
   "metadata": {},
   "outputs": [
    {
     "data": {
      "text/plain": [
       "3"
      ]
     },
     "execution_count": 53,
     "metadata": {},
     "output_type": "execute_result"
    }
   ],
   "source": [
    "nums = [3,1,3,4,2]\n",
    "S1 = Solution()\n",
    "S1.findDuplicate(nums)"
   ]
  },
  {
   "cell_type": "markdown",
   "metadata": {},
   "source": [
    "# 442. Find All Duplicates in an Array"
   ]
  },
  {
   "cell_type": "code",
   "execution_count": 28,
   "metadata": {},
   "outputs": [],
   "source": [
    "class Solution:\n",
    "    def findDuplicates(self, nums):\n",
    "        a = list(set(nums))\n",
    "        b = list()\n",
    "        for y in a:\n",
    "            if nums.count(y) > 1:\n",
    "                b.append(y)\n",
    "        return b"
   ]
  },
  {
   "cell_type": "code",
   "execution_count": 30,
   "metadata": {},
   "outputs": [
    {
     "data": {
      "text/plain": [
       "[3]"
      ]
     },
     "execution_count": 30,
     "metadata": {},
     "output_type": "execute_result"
    }
   ],
   "source": [
    "nums = [3,1,3,4,2,10223,10223]\n",
    "S1 = Solution()\n",
    "S1.findDuplicates(nums)"
   ]
  },
  {
   "cell_type": "code",
   "execution_count": 38,
   "metadata": {},
   "outputs": [],
   "source": [
    "class Solution:\n",
    "    def findDuplicates(self, nums):\n",
    "        return list(set([item for item in nums if nums.count(item)>1]))"
   ]
  },
  {
   "cell_type": "code",
   "execution_count": 39,
   "metadata": {},
   "outputs": [
    {
     "data": {
      "text/plain": [
       "[3, 10223]"
      ]
     },
     "execution_count": 39,
     "metadata": {},
     "output_type": "execute_result"
    }
   ],
   "source": [
    "nums = [3,1,3,4,2,10223,10223]\n",
    "S1 = Solution()\n",
    "S1.findDuplicates(nums)"
   ]
  },
  {
   "cell_type": "code",
   "execution_count": 44,
   "metadata": {},
   "outputs": [],
   "source": [
    "class Solution:\n",
    "    def findDuplicates(self, nums):\n",
    "        nums.sort()\n",
    "        b = None\n",
    "        c = list()\n",
    "        for x in nums:\n",
    "            if b == x:\n",
    "                c.append(x)\n",
    "            b = x\n",
    "        return c[0]"
   ]
  },
  {
   "cell_type": "code",
   "execution_count": 45,
   "metadata": {},
   "outputs": [
    {
     "data": {
      "text/plain": [
       "[3, 10223]"
      ]
     },
     "execution_count": 45,
     "metadata": {},
     "output_type": "execute_result"
    }
   ],
   "source": [
    "nums = [3,1,3,4,2,10223,10223]\n",
    "S1 = Solution()\n",
    "S1.findDuplicates(nums)"
   ]
  },
  {
   "cell_type": "markdown",
   "metadata": {},
   "source": [
    "# Question 345. Reverse Vowels of a String"
   ]
  },
  {
   "cell_type": "code",
   "execution_count": 58,
   "metadata": {},
   "outputs": [],
   "source": [
    "class Solution:\n",
    "    def reverseVowels(self, s):\n",
    "        a = ['a','e','i','o','u','A','E','I','O','U']\n",
    "        b = list()\n",
    "        c = list()\n",
    "        d = list()\n",
    "        count = 0\n",
    "        for x in range(len(s)):\n",
    "            if a.count(s[x]) >= 1:\n",
    "                b.append(s[x])\n",
    "                c.append(x)\n",
    "                count += 1\n",
    "            else:\n",
    "                d.append(s[x])\n",
    "                count += 1\n",
    "        b.reverse()\n",
    "        for x in range(len(b)):\n",
    "            d.insert(c[x],b[x])\n",
    "        z=''\n",
    "        for x in range(len(d)):\n",
    "            z += str(d[x])\n",
    "        return z"
   ]
  },
  {
   "cell_type": "code",
   "execution_count": 61,
   "metadata": {},
   "outputs": [
    {
     "data": {
      "text/plain": [
       "'leotcede'"
      ]
     },
     "execution_count": 61,
     "metadata": {},
     "output_type": "execute_result"
    }
   ],
   "source": [
    "s = 'leetcode'\n",
    "S1 = Solution()\n",
    "S1.reverseVowels(s)"
   ]
  },
  {
   "cell_type": "code",
   "execution_count": null,
   "metadata": {},
   "outputs": [],
   "source": []
  }
 ],
 "metadata": {
  "kernelspec": {
   "display_name": "Python 3",
   "language": "python",
   "name": "python3"
  },
  "language_info": {
   "codemirror_mode": {
    "name": "ipython",
    "version": 3
   },
   "file_extension": ".py",
   "mimetype": "text/x-python",
   "name": "python",
   "nbconvert_exporter": "python",
   "pygments_lexer": "ipython3",
   "version": "3.6.5"
  }
 },
 "nbformat": 4,
 "nbformat_minor": 2
}
